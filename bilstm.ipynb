{
 "cells": [
  {
   "cell_type": "code",
   "execution_count": 34,
   "id": "d65626f2-7d0b-4858-b145-193adc1c5843",
   "metadata": {},
   "outputs": [
    {
     "name": "stdout",
     "output_type": "stream",
     "text": [
      "Downloading from https://www.kaggle.com/api/v1/datasets/download/imranbukhari/comprehensive-bnbusd-1m-data?dataset_version_number=22...\n"
     ]
    },
    {
     "name": "stderr",
     "output_type": "stream",
     "text": [
      "100%|████████████████████████████████████████| 311M/311M [00:55<00:00, 5.87MB/s]"
     ]
    },
    {
     "name": "stdout",
     "output_type": "stream",
     "text": [
      "Extracting files...\n"
     ]
    },
    {
     "name": "stderr",
     "output_type": "stream",
     "text": [
      "\n"
     ]
    },
    {
     "name": "stdout",
     "output_type": "stream",
     "text": [
      "Path to dataset files: /Users/reefu/.cache/kagglehub/datasets/imranbukhari/comprehensive-bnbusd-1m-data/versions/22\n"
     ]
    }
   ],
   "source": [
    "import kagglehub\n",
    "\n",
    "path = kagglehub.dataset_download(\"imranbukhari/comprehensive-bnbusd-1m-data\")\n",
    "\n",
    "print(\"Path to dataset files:\", path)"
   ]
  },
  {
   "cell_type": "code",
   "execution_count": 15,
   "id": "6f361630-464b-43b6-9fbd-04ddccb1bd2f",
   "metadata": {},
   "outputs": [],
   "source": [
    "import pandas as pd\n",
    "import numpy as np\n",
    "import optuna\n",
    "import torch\n",
    "import torch.nn as nn\n",
    "import torch.optim as optim\n",
    "from torch.utils.data import DataLoader, TensorDataset\n",
    "from sklearn.preprocessing import MinMaxScaler\n",
    "from sklearn.model_selection import train_test_split"
   ]
  },
  {
   "cell_type": "code",
   "execution_count": 2,
   "id": "0b23515c-8ede-4195-9acd-ff1ccded4777",
   "metadata": {},
   "outputs": [
    {
     "data": {
      "text/html": [
       "<div>\n",
       "<style scoped>\n",
       "    .dataframe tbody tr th:only-of-type {\n",
       "        vertical-align: middle;\n",
       "    }\n",
       "\n",
       "    .dataframe tbody tr th {\n",
       "        vertical-align: top;\n",
       "    }\n",
       "\n",
       "    .dataframe thead th {\n",
       "        text-align: right;\n",
       "    }\n",
       "</style>\n",
       "<table border=\"1\" class=\"dataframe\">\n",
       "  <thead>\n",
       "    <tr style=\"text-align: right;\">\n",
       "      <th></th>\n",
       "      <th>Open time</th>\n",
       "      <th>Open</th>\n",
       "      <th>High</th>\n",
       "      <th>Low</th>\n",
       "      <th>Close</th>\n",
       "      <th>Volume</th>\n",
       "      <th>Close time</th>\n",
       "      <th>Quote asset volume</th>\n",
       "      <th>Number of trades</th>\n",
       "      <th>Taker buy base asset volume</th>\n",
       "      <th>Taker buy quote asset volume</th>\n",
       "      <th>Ignore</th>\n",
       "    </tr>\n",
       "  </thead>\n",
       "  <tbody>\n",
       "    <tr>\n",
       "      <th>3380787</th>\n",
       "      <td>2024-04-16 15:14:00</td>\n",
       "      <td>531.80</td>\n",
       "      <td>531.80</td>\n",
       "      <td>530.10</td>\n",
       "      <td>530.20</td>\n",
       "      <td>399.4710</td>\n",
       "      <td>2024-04-16 15:14:59.999</td>\n",
       "      <td>211965.514400</td>\n",
       "      <td>483.0</td>\n",
       "      <td>114.2430</td>\n",
       "      <td>60611.656500</td>\n",
       "      <td>0.0</td>\n",
       "    </tr>\n",
       "    <tr>\n",
       "      <th>1930961</th>\n",
       "      <td>2021-07-14 11:38:00</td>\n",
       "      <td>302.52</td>\n",
       "      <td>302.61</td>\n",
       "      <td>301.78</td>\n",
       "      <td>301.89</td>\n",
       "      <td>2941.3436</td>\n",
       "      <td>2021-07-14 11:38:59.999</td>\n",
       "      <td>888653.071529</td>\n",
       "      <td>636.0</td>\n",
       "      <td>886.1401</td>\n",
       "      <td>267781.248860</td>\n",
       "      <td>0.0</td>\n",
       "    </tr>\n",
       "    <tr>\n",
       "      <th>1917273</th>\n",
       "      <td>2021-07-04 23:30:00</td>\n",
       "      <td>308.44</td>\n",
       "      <td>308.74</td>\n",
       "      <td>308.33</td>\n",
       "      <td>308.64</td>\n",
       "      <td>386.3261</td>\n",
       "      <td>2021-07-04 23:30:59.999</td>\n",
       "      <td>119247.140955</td>\n",
       "      <td>177.0</td>\n",
       "      <td>301.3769</td>\n",
       "      <td>93028.622955</td>\n",
       "      <td>0.0</td>\n",
       "    </tr>\n",
       "    <tr>\n",
       "      <th>2226960</th>\n",
       "      <td>2022-02-05 07:27:00</td>\n",
       "      <td>424.70</td>\n",
       "      <td>424.70</td>\n",
       "      <td>424.20</td>\n",
       "      <td>424.50</td>\n",
       "      <td>307.9070</td>\n",
       "      <td>2022-02-05 07:27:59.999</td>\n",
       "      <td>130673.991100</td>\n",
       "      <td>257.0</td>\n",
       "      <td>119.9680</td>\n",
       "      <td>50915.896000</td>\n",
       "      <td>0.0</td>\n",
       "    </tr>\n",
       "    <tr>\n",
       "      <th>3036275</th>\n",
       "      <td>2023-08-21 09:22:00</td>\n",
       "      <td>215.20</td>\n",
       "      <td>215.20</td>\n",
       "      <td>215.00</td>\n",
       "      <td>215.00</td>\n",
       "      <td>235.9450</td>\n",
       "      <td>2023-08-21 09:22:59.999</td>\n",
       "      <td>50752.549100</td>\n",
       "      <td>63.0</td>\n",
       "      <td>21.6560</td>\n",
       "      <td>4658.989500</td>\n",
       "      <td>0.0</td>\n",
       "    </tr>\n",
       "  </tbody>\n",
       "</table>\n",
       "</div>"
      ],
      "text/plain": [
       "                   Open time    Open    High     Low   Close     Volume  \\\n",
       "3380787  2024-04-16 15:14:00  531.80  531.80  530.10  530.20   399.4710   \n",
       "1930961  2021-07-14 11:38:00  302.52  302.61  301.78  301.89  2941.3436   \n",
       "1917273  2021-07-04 23:30:00  308.44  308.74  308.33  308.64   386.3261   \n",
       "2226960  2022-02-05 07:27:00  424.70  424.70  424.20  424.50   307.9070   \n",
       "3036275  2023-08-21 09:22:00  215.20  215.20  215.00  215.00   235.9450   \n",
       "\n",
       "                      Close time  Quote asset volume  Number of trades  \\\n",
       "3380787  2024-04-16 15:14:59.999       211965.514400             483.0   \n",
       "1930961  2021-07-14 11:38:59.999       888653.071529             636.0   \n",
       "1917273  2021-07-04 23:30:59.999       119247.140955             177.0   \n",
       "2226960  2022-02-05 07:27:59.999       130673.991100             257.0   \n",
       "3036275  2023-08-21 09:22:59.999        50752.549100              63.0   \n",
       "\n",
       "         Taker buy base asset volume  Taker buy quote asset volume  Ignore  \n",
       "3380787                     114.2430                  60611.656500     0.0  \n",
       "1930961                     886.1401                 267781.248860     0.0  \n",
       "1917273                     301.3769                  93028.622955     0.0  \n",
       "2226960                     119.9680                  50915.896000     0.0  \n",
       "3036275                      21.6560                   4658.989500     0.0  "
      ]
     },
     "execution_count": 2,
     "metadata": {},
     "output_type": "execute_result"
    }
   ],
   "source": [
    "df = pd.read_csv(\"/Users/reefu/.cache/kagglehub/datasets/imranbukhari/comprehensive-bnbusd-1m-data/versions/22/BNBUSD_1m_Binance.csv\")\n",
    "\n",
    "df.sample(5)"
   ]
  },
  {
   "cell_type": "code",
   "execution_count": 3,
   "id": "1adf9c43-a89d-4de6-a27e-4641443db486",
   "metadata": {},
   "outputs": [],
   "source": [
    "df['Open time'] = pd.to_datetime(df['Open time'])"
   ]
  },
  {
   "cell_type": "code",
   "execution_count": 4,
   "id": "f8f47f72-e349-484d-8704-4bd13b5e6237",
   "metadata": {},
   "outputs": [],
   "source": [
    "features = [\"Open\", \"High\", \"Low\", \"Close\", \"Volume\", \"Number of trades\"]\n",
    "df = df[[\"Open time\"] + features]"
   ]
  },
  {
   "cell_type": "code",
   "execution_count": 5,
   "id": "a0b20de2-b256-4ea5-8c9b-c7ab9053428e",
   "metadata": {},
   "outputs": [],
   "source": [
    "df.set_index('Open time', inplace=True)"
   ]
  },
  {
   "cell_type": "code",
   "execution_count": 6,
   "id": "2a11b4fd-ce02-4a7e-ac98-351fb1ffb596",
   "metadata": {},
   "outputs": [],
   "source": [
    "df = df.resample('D').agg({\n",
    "    'Open': 'first',\n",
    "    'High': 'max',\n",
    "    'Low': 'min',\n",
    "    'Close': 'last',\n",
    "    'Volume': 'sum',\n",
    "    'Number of trades': 'sum'\n",
    "})"
   ]
  },
  {
   "cell_type": "code",
   "execution_count": 7,
   "id": "7c4bf96a-d091-4449-a7b0-45bfba59a0cf",
   "metadata": {},
   "outputs": [],
   "source": [
    "scaler = MinMaxScaler()\n",
    "df[features] = scaler.fit_transform(df[features])"
   ]
  },
  {
   "cell_type": "code",
   "execution_count": 8,
   "id": "eb378b6c-5c4a-43d1-a40d-a01f605c1f01",
   "metadata": {},
   "outputs": [
    {
     "data": {
      "text/html": [
       "<div>\n",
       "<style scoped>\n",
       "    .dataframe tbody tr th:only-of-type {\n",
       "        vertical-align: middle;\n",
       "    }\n",
       "\n",
       "    .dataframe tbody tr th {\n",
       "        vertical-align: top;\n",
       "    }\n",
       "\n",
       "    .dataframe thead th {\n",
       "        text-align: right;\n",
       "    }\n",
       "</style>\n",
       "<table border=\"1\" class=\"dataframe\">\n",
       "  <thead>\n",
       "    <tr style=\"text-align: right;\">\n",
       "      <th></th>\n",
       "      <th>Open</th>\n",
       "      <th>High</th>\n",
       "      <th>Low</th>\n",
       "      <th>Close</th>\n",
       "      <th>Volume</th>\n",
       "      <th>Number of trades</th>\n",
       "    </tr>\n",
       "    <tr>\n",
       "      <th>Open time</th>\n",
       "      <th></th>\n",
       "      <th></th>\n",
       "      <th></th>\n",
       "      <th></th>\n",
       "      <th></th>\n",
       "      <th></th>\n",
       "    </tr>\n",
       "  </thead>\n",
       "  <tbody>\n",
       "    <tr>\n",
       "      <th>2017-11-06</th>\n",
       "      <td>0.000013</td>\n",
       "      <td>0.000281</td>\n",
       "      <td>0.000000</td>\n",
       "      <td>0.000108</td>\n",
       "      <td>0.002115</td>\n",
       "      <td>0.000015</td>\n",
       "    </tr>\n",
       "    <tr>\n",
       "      <th>2017-11-07</th>\n",
       "      <td>0.000108</td>\n",
       "      <td>0.000282</td>\n",
       "      <td>0.001425</td>\n",
       "      <td>0.000414</td>\n",
       "      <td>0.002787</td>\n",
       "      <td>0.000000</td>\n",
       "    </tr>\n",
       "    <tr>\n",
       "      <th>2017-11-08</th>\n",
       "      <td>0.000414</td>\n",
       "      <td>0.000522</td>\n",
       "      <td>0.001711</td>\n",
       "      <td>0.000667</td>\n",
       "      <td>0.013387</td>\n",
       "      <td>0.000283</td>\n",
       "    </tr>\n",
       "    <tr>\n",
       "      <th>2017-11-09</th>\n",
       "      <td>0.000667</td>\n",
       "      <td>0.000787</td>\n",
       "      <td>0.001920</td>\n",
       "      <td>0.000668</td>\n",
       "      <td>0.010391</td>\n",
       "      <td>0.000107</td>\n",
       "    </tr>\n",
       "    <tr>\n",
       "      <th>2017-11-10</th>\n",
       "      <td>0.000668</td>\n",
       "      <td>0.000560</td>\n",
       "      <td>0.001511</td>\n",
       "      <td>0.000298</td>\n",
       "      <td>0.020217</td>\n",
       "      <td>0.000203</td>\n",
       "    </tr>\n",
       "  </tbody>\n",
       "</table>\n",
       "</div>"
      ],
      "text/plain": [
       "                Open      High       Low     Close    Volume  Number of trades\n",
       "Open time                                                                     \n",
       "2017-11-06  0.000013  0.000281  0.000000  0.000108  0.002115          0.000015\n",
       "2017-11-07  0.000108  0.000282  0.001425  0.000414  0.002787          0.000000\n",
       "2017-11-08  0.000414  0.000522  0.001711  0.000667  0.013387          0.000283\n",
       "2017-11-09  0.000667  0.000787  0.001920  0.000668  0.010391          0.000107\n",
       "2017-11-10  0.000668  0.000560  0.001511  0.000298  0.020217          0.000203"
      ]
     },
     "execution_count": 8,
     "metadata": {},
     "output_type": "execute_result"
    }
   ],
   "source": [
    "df.head()"
   ]
  },
  {
   "cell_type": "code",
   "execution_count": 9,
   "id": "1f042da9-46ad-48da-9709-c38ee780749e",
   "metadata": {},
   "outputs": [],
   "source": [
    "def create_sequences(data, seq_length):\n",
    "    X, y = [], []\n",
    "    for i in range(len(data) - seq_length):\n",
    "        X.append(data[i : i + seq_length])\n",
    "        y.append(data[i + seq_length, -1])\n",
    "    return np.array(X), np.array(y)\n",
    "\n",
    "seq_length = 25  \n",
    "data = df.values\n",
    "X, y = create_sequences(data, seq_length)"
   ]
  },
  {
   "cell_type": "code",
   "execution_count": 13,
   "id": "652d891a-fc91-4986-bda4-ae47e0336de6",
   "metadata": {},
   "outputs": [],
   "source": [
    "X_train, X_test, y_train, y_test = train_test_split(\n",
    "    X, y, test_size=0.2, random_state=42, shuffle=True\n",
    ")"
   ]
  },
  {
   "cell_type": "code",
   "execution_count": 14,
   "id": "693ac573-11d4-4f4e-ab18-d52ce1a03357",
   "metadata": {},
   "outputs": [],
   "source": [
    "X_train_tensor = torch.tensor(X_train, dtype=torch.float32)\n",
    "y_train_tensor = torch.tensor(y_train, dtype=torch.float32).view(-1, 1)\n",
    "X_test_tensor = torch.tensor(X_test, dtype=torch.float32)\n",
    "y_test_tensor = torch.tensor(y_test, dtype=torch.float32).view(-1, 1)"
   ]
  },
  {
   "cell_type": "code",
   "execution_count": 20,
   "id": "cd0e7403-0323-4a9b-82f2-9ea93c9c8c3a",
   "metadata": {},
   "outputs": [],
   "source": [
    "def get_data_loader(X, y, batch_size):\n",
    "    X_tensor = torch.tensor(X, dtype=torch.float32)\n",
    "    y_tensor = torch.tensor(y, dtype=torch.float32).unsqueeze(1)\n",
    "    \n",
    "    dataset = TensorDataset(X_tensor, y_tensor)\n",
    "    return DataLoader(dataset, batch_size=batch_size, shuffle=True)"
   ]
  },
  {
   "cell_type": "code",
   "execution_count": 21,
   "id": "600be824-4171-4ba8-9232-ca57efe1fe32",
   "metadata": {},
   "outputs": [],
   "source": [
    "class BiLSTMModel(nn.Module):\n",
    "    def __init__(self, input_size, hidden_size, num_layers, dropout):\n",
    "        super(BiLSTMModel, self).__init__()\n",
    "        self.lstm = nn.LSTM(input_size, hidden_size, num_layers, batch_first=True, bidirectional=True)\n",
    "        self.fc = nn.Linear(hidden_size * 2, 1)\n",
    "        self.dropout = nn.Dropout(dropout)\n",
    "\n",
    "    def forward(self, x):\n",
    "        out, _ = self.lstm(x)\n",
    "        out = self.dropout(out[:, -1, :])\n",
    "        out = self.fc(out)\n",
    "        return out"
   ]
  },
  {
   "cell_type": "code",
   "execution_count": 22,
   "id": "67328576-8a74-4399-9e63-43d7c68638a1",
   "metadata": {},
   "outputs": [],
   "source": [
    "def objective(trial):\n",
    "    # Tune hyperparameters\n",
    "    learning_rate = trial.suggest_float(\"learning_rate\", 0.0001, 0.1, log=True)\n",
    "    batch_size = trial.suggest_categorical(\"batch_size\", [32, 64, 128])\n",
    "    epochs = trial.suggest_int(\"epochs\", 50, 150, step=50)\n",
    "    dropout = trial.suggest_float(\"dropout\", 0.1, 0.5)\n",
    "\n",
    "    # Get DataLoader\n",
    "    train_loader = get_data_loader(X_train, y_train, batch_size)\n",
    "\n",
    "    # Initialize Model\n",
    "    model = BiLSTMModel(input_size=6, hidden_size=128, num_layers=2, dropout=dropout)\n",
    "    criterion = nn.MSELoss()\n",
    "    optimizer = optim.Adam(model.parameters(), lr=learning_rate)\n",
    "\n",
    "    # Training Loop\n",
    "    for epoch in range(epochs):\n",
    "        model.train()\n",
    "        total_loss = 0\n",
    "        for X_batch, y_batch in train_loader:\n",
    "            optimizer.zero_grad()\n",
    "            predictions = model(X_batch)\n",
    "            loss = criterion(predictions, y_batch)\n",
    "            loss.backward()\n",
    "            optimizer.step()\n",
    "            total_loss += loss.item()\n",
    "    \n",
    "    return total_loss / len(train_loader)"
   ]
  },
  {
   "cell_type": "code",
   "execution_count": 23,
   "id": "7c46f48c-9301-4740-9b76-aefc69215ae3",
   "metadata": {},
   "outputs": [
    {
     "name": "stderr",
     "output_type": "stream",
     "text": [
      "[I 2025-03-19 05:58:04,086] A new study created in memory with name: no-name-16b87f30-bc06-492c-97b4-4ed0f5dc825c\n",
      "[I 2025-03-19 06:00:26,739] Trial 0 finished with value: 0.02697115042246878 and parameters: {'learning_rate': 0.06757196147013436, 'batch_size': 32, 'epochs': 100, 'dropout': 0.30846635521314913}. Best is trial 0 with value: 0.02697115042246878.\n",
      "[I 2025-03-19 06:02:29,063] Trial 1 finished with value: 0.002142420987023369 and parameters: {'learning_rate': 0.0003017858348195838, 'batch_size': 128, 'epochs': 150, 'dropout': 0.2792094778754688}. Best is trial 1 with value: 0.002142420987023369.\n",
      "[I 2025-03-19 06:03:20,367] Trial 2 finished with value: 0.00237863479626619 and parameters: {'learning_rate': 0.005620720580428703, 'batch_size': 64, 'epochs': 50, 'dropout': 0.26641497321559876}. Best is trial 1 with value: 0.002142420987023369.\n",
      "[I 2025-03-19 06:04:12,731] Trial 3 finished with value: 0.002546184495176104 and parameters: {'learning_rate': 0.005690231163062163, 'batch_size': 64, 'epochs': 50, 'dropout': 0.23439531098555758}. Best is trial 1 with value: 0.002142420987023369.\n",
      "[I 2025-03-19 06:05:04,331] Trial 4 finished with value: 0.00227455772057345 and parameters: {'learning_rate': 0.0011087399469965416, 'batch_size': 64, 'epochs': 50, 'dropout': 0.26327447345944927}. Best is trial 1 with value: 0.002142420987023369.\n",
      "[I 2025-03-19 06:07:08,201] Trial 5 finished with value: 0.0023243759882033747 and parameters: {'learning_rate': 0.00013300397795373592, 'batch_size': 128, 'epochs': 150, 'dropout': 0.42651026181685725}. Best is trial 1 with value: 0.002142420987023369.\n",
      "[I 2025-03-19 06:08:50,613] Trial 6 finished with value: 0.0022185420596294784 and parameters: {'learning_rate': 0.000807108687027693, 'batch_size': 64, 'epochs': 100, 'dropout': 0.2844635721330551}. Best is trial 1 with value: 0.002142420987023369.\n",
      "[I 2025-03-19 06:10:03,450] Trial 7 finished with value: 0.0023829323750264434 and parameters: {'learning_rate': 0.0002175870329342845, 'batch_size': 32, 'epochs': 50, 'dropout': 0.3892345280783337}. Best is trial 1 with value: 0.002142420987023369.\n",
      "[I 2025-03-19 06:11:47,235] Trial 8 finished with value: 0.003967289029705254 and parameters: {'learning_rate': 0.014101476032413744, 'batch_size': 64, 'epochs': 100, 'dropout': 0.4622220718051827}. Best is trial 1 with value: 0.002142420987023369.\n",
      "[I 2025-03-19 06:12:55,773] Trial 9 finished with value: 0.0023157404414660327 and parameters: {'learning_rate': 0.00035143727450999044, 'batch_size': 32, 'epochs': 50, 'dropout': 0.3148596180135135}. Best is trial 1 with value: 0.002142420987023369.\n",
      "[I 2025-03-19 06:15:01,696] Trial 10 finished with value: 0.0017664547845282976 and parameters: {'learning_rate': 0.0011171621782201213, 'batch_size': 128, 'epochs': 150, 'dropout': 0.10835347075842797}. Best is trial 10 with value: 0.0017664547845282976.\n",
      "[I 2025-03-19 06:17:08,567] Trial 11 finished with value: 0.0018942851354094112 and parameters: {'learning_rate': 0.0013407729410591046, 'batch_size': 128, 'epochs': 150, 'dropout': 0.10226513011378749}. Best is trial 10 with value: 0.0017664547845282976.\n",
      "[I 2025-03-19 06:19:16,345] Trial 12 finished with value: 0.0016249087262515199 and parameters: {'learning_rate': 0.001518292936179861, 'batch_size': 128, 'epochs': 150, 'dropout': 0.10415605617045429}. Best is trial 12 with value: 0.0016249087262515199.\n",
      "[I 2025-03-19 06:21:25,097] Trial 13 finished with value: 0.0013883253662189579 and parameters: {'learning_rate': 0.0022248762570097605, 'batch_size': 128, 'epochs': 150, 'dropout': 0.11380773563607081}. Best is trial 13 with value: 0.0013883253662189579.\n",
      "[I 2025-03-19 06:23:32,328] Trial 14 finished with value: 0.001747934168259449 and parameters: {'learning_rate': 0.003260960462432072, 'batch_size': 128, 'epochs': 150, 'dropout': 0.17571301454487823}. Best is trial 13 with value: 0.0013883253662189579.\n",
      "[I 2025-03-19 06:25:41,959] Trial 15 finished with value: 0.0022820706328596264 and parameters: {'learning_rate': 0.014271145620147125, 'batch_size': 128, 'epochs': 150, 'dropout': 0.16910211125497332}. Best is trial 13 with value: 0.0013883253662189579.\n",
      "[I 2025-03-19 06:27:07,600] Trial 16 finished with value: 0.002178930143332657 and parameters: {'learning_rate': 0.0022052351569148572, 'batch_size': 128, 'epochs': 100, 'dropout': 0.16908044033473985}. Best is trial 13 with value: 0.0013883253662189579.\n",
      "[I 2025-03-19 06:29:19,865] Trial 17 finished with value: 0.0024281867834575034 and parameters: {'learning_rate': 0.020348766334874622, 'batch_size': 128, 'epochs': 150, 'dropout': 0.14559394443936172}. Best is trial 13 with value: 0.0013883253662189579.\n",
      "[I 2025-03-19 06:30:46,541] Trial 18 finished with value: 0.002119129999568138 and parameters: {'learning_rate': 0.00053078443129243, 'batch_size': 128, 'epochs': 100, 'dropout': 0.20827581532069597}. Best is trial 13 with value: 0.0013883253662189579.\n",
      "[I 2025-03-19 06:32:56,031] Trial 19 finished with value: 0.0018792612484984977 and parameters: {'learning_rate': 0.0030242056026405168, 'batch_size': 128, 'epochs': 150, 'dropout': 0.3536544685504474}. Best is trial 13 with value: 0.0013883253662189579.\n",
      "[I 2025-03-19 06:36:18,935] Trial 20 finished with value: 0.0017670218137826657 and parameters: {'learning_rate': 0.006524438625549717, 'batch_size': 32, 'epochs': 150, 'dropout': 0.13097329221863357}. Best is trial 13 with value: 0.0013883253662189579.\n",
      "[I 2025-03-19 06:38:28,726] Trial 21 finished with value: 0.0015863042619243702 and parameters: {'learning_rate': 0.002357763498730387, 'batch_size': 128, 'epochs': 150, 'dropout': 0.20586155504628673}. Best is trial 13 with value: 0.0013883253662189579.\n",
      "[I 2025-03-19 06:40:39,672] Trial 22 finished with value: 0.0018340814173878992 and parameters: {'learning_rate': 0.001997324976071951, 'batch_size': 128, 'epochs': 150, 'dropout': 0.21015508448197356}. Best is trial 13 with value: 0.0013883253662189579.\n",
      "[I 2025-03-19 06:42:06,899] Trial 23 finished with value: 0.00217913234989871 and parameters: {'learning_rate': 0.0006609213278604666, 'batch_size': 128, 'epochs': 100, 'dropout': 0.1306568856510939}. Best is trial 13 with value: 0.0013883253662189579.\n",
      "[I 2025-03-19 06:44:17,393] Trial 24 finished with value: 0.0013786412994651234 and parameters: {'learning_rate': 0.004108361911686354, 'batch_size': 128, 'epochs': 150, 'dropout': 0.19989998336605463}. Best is trial 24 with value: 0.0013786412994651234.\n",
      "[I 2025-03-19 06:46:28,990] Trial 25 finished with value: 0.001624395334682263 and parameters: {'learning_rate': 0.009819938603166423, 'batch_size': 128, 'epochs': 150, 'dropout': 0.2033898246795175}. Best is trial 24 with value: 0.0013786412994651234.\n",
      "[I 2025-03-19 06:48:00,632] Trial 26 finished with value: 0.002553874866434318 and parameters: {'learning_rate': 0.03747410629742348, 'batch_size': 128, 'epochs': 100, 'dropout': 0.23478248979912697}. Best is trial 24 with value: 0.0013786412994651234.\n",
      "[I 2025-03-19 06:50:16,042] Trial 27 finished with value: 0.0018734215649173541 and parameters: {'learning_rate': 0.00374603343904193, 'batch_size': 128, 'epochs': 150, 'dropout': 0.1776925927824997}. Best is trial 24 with value: 0.0013786412994651234.\n",
      "[I 2025-03-19 06:53:43,578] Trial 28 finished with value: 0.0016731698600448328 and parameters: {'learning_rate': 0.00412963490637503, 'batch_size': 32, 'epochs': 150, 'dropout': 0.2432640061574118}. Best is trial 24 with value: 0.0013786412994651234.\n",
      "[I 2025-03-19 06:55:11,070] Trial 29 finished with value: 0.00196578457390013 and parameters: {'learning_rate': 0.007952556912574328, 'batch_size': 128, 'epochs': 100, 'dropout': 0.32245226810832733}. Best is trial 24 with value: 0.0013786412994651234.\n",
      "[I 2025-03-19 06:58:33,825] Trial 30 finished with value: 0.019571418394193504 and parameters: {'learning_rate': 0.03952621855868393, 'batch_size': 32, 'epochs': 150, 'dropout': 0.14472639577124227}. Best is trial 24 with value: 0.0013786412994651234.\n",
      "[I 2025-03-19 07:00:48,090] Trial 31 finished with value: 0.0011574207181932732 and parameters: {'learning_rate': 0.010750156717437719, 'batch_size': 128, 'epochs': 150, 'dropout': 0.20131669209387182}. Best is trial 31 with value: 0.0011574207181932732.\n",
      "[I 2025-03-19 07:03:01,579] Trial 32 finished with value: 0.0016174099291674793 and parameters: {'learning_rate': 0.0023397333000526473, 'batch_size': 128, 'epochs': 150, 'dropout': 0.1971897330212462}. Best is trial 31 with value: 0.0011574207181932732.\n",
      "[I 2025-03-19 07:05:15,443] Trial 33 finished with value: 0.0012222912970601635 and parameters: {'learning_rate': 0.011089515288290835, 'batch_size': 128, 'epochs': 150, 'dropout': 0.2460619165265973}. Best is trial 31 with value: 0.0011574207181932732.\n",
      "[I 2025-03-19 07:07:29,943] Trial 34 finished with value: 0.004122995155151276 and parameters: {'learning_rate': 0.07556129086995199, 'batch_size': 128, 'epochs': 150, 'dropout': 0.2477644062158421}. Best is trial 31 with value: 0.0011574207181932732.\n",
      "[I 2025-03-19 07:10:09,199] Trial 35 finished with value: 0.0022558341275505495 and parameters: {'learning_rate': 0.022847044283732063, 'batch_size': 64, 'epochs': 150, 'dropout': 0.26691065311018936}. Best is trial 31 with value: 0.0011574207181932732.\n",
      "[I 2025-03-19 07:12:22,528] Trial 36 finished with value: 0.0016333041575682513 and parameters: {'learning_rate': 0.010623491191985263, 'batch_size': 128, 'epochs': 150, 'dropout': 0.33538464115984773}. Best is trial 31 with value: 0.0011574207181932732.\n",
      "[I 2025-03-19 07:14:37,075] Trial 37 finished with value: 0.001343044698895777 and parameters: {'learning_rate': 0.004749084171236052, 'batch_size': 128, 'epochs': 150, 'dropout': 0.2266407928719557}. Best is trial 31 with value: 0.0011574207181932732.\n",
      "[I 2025-03-19 07:16:23,135] Trial 38 finished with value: 0.0021526149498778536 and parameters: {'learning_rate': 0.004675752528171954, 'batch_size': 64, 'epochs': 100, 'dropout': 0.30056448014484977}. Best is trial 31 with value: 0.0011574207181932732.\n",
      "[I 2025-03-19 07:19:12,337] Trial 39 finished with value: 0.0020674733027322765 and parameters: {'learning_rate': 0.031239282566405197, 'batch_size': 128, 'epochs': 150, 'dropout': 0.2854252638328727}. Best is trial 31 with value: 0.0011574207181932732.\n",
      "[I 2025-03-19 07:21:10,723] Trial 40 finished with value: 0.0019067806292282926 and parameters: {'learning_rate': 0.0062761137525716715, 'batch_size': 64, 'epochs': 100, 'dropout': 0.22393475645360755}. Best is trial 31 with value: 0.0011574207181932732.\n",
      "[I 2025-03-19 07:23:26,191] Trial 41 finished with value: 0.002011201433453928 and parameters: {'learning_rate': 0.012191323163634743, 'batch_size': 128, 'epochs': 150, 'dropout': 0.2619636561071848}. Best is trial 31 with value: 0.0011574207181932732.\n",
      "[I 2025-03-19 07:25:42,040] Trial 42 finished with value: 0.001273095967275474 and parameters: {'learning_rate': 0.008079656479676532, 'batch_size': 128, 'epochs': 150, 'dropout': 0.18972743781780402}. Best is trial 31 with value: 0.0011574207181932732.\n",
      "[I 2025-03-19 07:27:56,825] Trial 43 finished with value: 0.0025130669271354288 and parameters: {'learning_rate': 0.018261382222618854, 'batch_size': 128, 'epochs': 150, 'dropout': 0.2255872349826857}. Best is trial 31 with value: 0.0011574207181932732.\n",
      "[I 2025-03-19 07:30:11,731] Trial 44 finished with value: 0.0014686961932217375 and parameters: {'learning_rate': 0.008572664547959963, 'batch_size': 128, 'epochs': 150, 'dropout': 0.18745829769484224}. Best is trial 31 with value: 0.0011574207181932732.\n",
      "[I 2025-03-19 07:32:27,923] Trial 45 finished with value: 0.0013439361218308262 and parameters: {'learning_rate': 0.005863261474451598, 'batch_size': 128, 'epochs': 150, 'dropout': 0.25378822314124827}. Best is trial 31 with value: 0.0011574207181932732.\n",
      "[I 2025-03-19 07:33:38,550] Trial 46 finished with value: 0.0024177086447845354 and parameters: {'learning_rate': 0.006045546651481918, 'batch_size': 32, 'epochs': 50, 'dropout': 0.49755886108429637}. Best is trial 31 with value: 0.0011574207181932732.\n",
      "[I 2025-03-19 07:35:55,517] Trial 47 finished with value: 0.002206255387350479 and parameters: {'learning_rate': 0.013195747150645629, 'batch_size': 128, 'epochs': 150, 'dropout': 0.2568719522688391}. Best is trial 31 with value: 0.0011574207181932732.\n",
      "[I 2025-03-19 07:38:10,705] Trial 48 finished with value: 0.008062991984736393 and parameters: {'learning_rate': 0.05334216598181003, 'batch_size': 128, 'epochs': 150, 'dropout': 0.27341573898301985}. Best is trial 31 with value: 0.0011574207181932732.\n",
      "[I 2025-03-19 07:40:46,307] Trial 49 finished with value: 0.0022132482033956685 and parameters: {'learning_rate': 0.01648930648267349, 'batch_size': 64, 'epochs': 150, 'dropout': 0.2942129657488716}. Best is trial 31 with value: 0.0011574207181932732.\n"
     ]
    }
   ],
   "source": [
    "study = optuna.create_study(direction=\"minimize\", sampler=optuna.samplers.TPESampler())\n",
    "study.optimize(objective, n_trials=50)"
   ]
  },
  {
   "cell_type": "code",
   "execution_count": 24,
   "id": "3162322d-424f-4280-9073-a953a58b7e78",
   "metadata": {},
   "outputs": [
    {
     "name": "stdout",
     "output_type": "stream",
     "text": [
      "Best Hyperparameters: {'learning_rate': 0.010750156717437719, 'batch_size': 128, 'epochs': 150, 'dropout': 0.20131669209387182}\n"
     ]
    }
   ],
   "source": [
    "best_params = study.best_params\n",
    "print(\"Best Hyperparameters:\", best_params)"
   ]
  },
  {
   "cell_type": "code",
   "execution_count": 25,
   "id": "4817fb09-09bb-4a4f-8b97-fe68fdb3509d",
   "metadata": {},
   "outputs": [],
   "source": [
    "best_model = BiLSTMModel(input_size=6, hidden_size=128, num_layers=2, dropout=best_params[\"dropout\"])\n",
    "best_optimizer = optim.Adam(best_model.parameters(), lr=best_params[\"learning_rate\"])\n",
    "criterion = nn.MSELoss()\n",
    "train_loader = get_data_loader(X_train, y_train, best_params[\"batch_size\"])"
   ]
  },
  {
   "cell_type": "code",
   "execution_count": 26,
   "id": "845c4c4d-ea9d-4888-b7c3-656f44ff596c",
   "metadata": {},
   "outputs": [
    {
     "ename": "KeyboardInterrupt",
     "evalue": "",
     "output_type": "error",
     "traceback": [
      "\u001b[0;31m---------------------------------------------------------------------------\u001b[0m",
      "\u001b[0;31mKeyboardInterrupt\u001b[0m                         Traceback (most recent call last)",
      "Cell \u001b[0;32mIn[26], line 5\u001b[0m\n\u001b[1;32m      3\u001b[0m \u001b[38;5;28;01mfor\u001b[39;00m X_batch, y_batch \u001b[38;5;129;01min\u001b[39;00m train_loader:\n\u001b[1;32m      4\u001b[0m     best_optimizer\u001b[38;5;241m.\u001b[39mzero_grad()\n\u001b[0;32m----> 5\u001b[0m     predictions \u001b[38;5;241m=\u001b[39m best_model(X_batch)\n\u001b[1;32m      6\u001b[0m     loss \u001b[38;5;241m=\u001b[39m criterion(predictions, y_batch)\n\u001b[1;32m      7\u001b[0m     loss\u001b[38;5;241m.\u001b[39mbackward()\n",
      "File \u001b[0;32m/opt/miniconda3/lib/python3.12/site-packages/torch/nn/modules/module.py:1739\u001b[0m, in \u001b[0;36mModule._wrapped_call_impl\u001b[0;34m(self, *args, **kwargs)\u001b[0m\n\u001b[1;32m   1737\u001b[0m     \u001b[38;5;28;01mreturn\u001b[39;00m \u001b[38;5;28mself\u001b[39m\u001b[38;5;241m.\u001b[39m_compiled_call_impl(\u001b[38;5;241m*\u001b[39margs, \u001b[38;5;241m*\u001b[39m\u001b[38;5;241m*\u001b[39mkwargs)  \u001b[38;5;66;03m# type: ignore[misc]\u001b[39;00m\n\u001b[1;32m   1738\u001b[0m \u001b[38;5;28;01melse\u001b[39;00m:\n\u001b[0;32m-> 1739\u001b[0m     \u001b[38;5;28;01mreturn\u001b[39;00m \u001b[38;5;28mself\u001b[39m\u001b[38;5;241m.\u001b[39m_call_impl(\u001b[38;5;241m*\u001b[39margs, \u001b[38;5;241m*\u001b[39m\u001b[38;5;241m*\u001b[39mkwargs)\n",
      "File \u001b[0;32m/opt/miniconda3/lib/python3.12/site-packages/torch/nn/modules/module.py:1750\u001b[0m, in \u001b[0;36mModule._call_impl\u001b[0;34m(self, *args, **kwargs)\u001b[0m\n\u001b[1;32m   1745\u001b[0m \u001b[38;5;66;03m# If we don't have any hooks, we want to skip the rest of the logic in\u001b[39;00m\n\u001b[1;32m   1746\u001b[0m \u001b[38;5;66;03m# this function, and just call forward.\u001b[39;00m\n\u001b[1;32m   1747\u001b[0m \u001b[38;5;28;01mif\u001b[39;00m \u001b[38;5;129;01mnot\u001b[39;00m (\u001b[38;5;28mself\u001b[39m\u001b[38;5;241m.\u001b[39m_backward_hooks \u001b[38;5;129;01mor\u001b[39;00m \u001b[38;5;28mself\u001b[39m\u001b[38;5;241m.\u001b[39m_backward_pre_hooks \u001b[38;5;129;01mor\u001b[39;00m \u001b[38;5;28mself\u001b[39m\u001b[38;5;241m.\u001b[39m_forward_hooks \u001b[38;5;129;01mor\u001b[39;00m \u001b[38;5;28mself\u001b[39m\u001b[38;5;241m.\u001b[39m_forward_pre_hooks\n\u001b[1;32m   1748\u001b[0m         \u001b[38;5;129;01mor\u001b[39;00m _global_backward_pre_hooks \u001b[38;5;129;01mor\u001b[39;00m _global_backward_hooks\n\u001b[1;32m   1749\u001b[0m         \u001b[38;5;129;01mor\u001b[39;00m _global_forward_hooks \u001b[38;5;129;01mor\u001b[39;00m _global_forward_pre_hooks):\n\u001b[0;32m-> 1750\u001b[0m     \u001b[38;5;28;01mreturn\u001b[39;00m forward_call(\u001b[38;5;241m*\u001b[39margs, \u001b[38;5;241m*\u001b[39m\u001b[38;5;241m*\u001b[39mkwargs)\n\u001b[1;32m   1752\u001b[0m result \u001b[38;5;241m=\u001b[39m \u001b[38;5;28;01mNone\u001b[39;00m\n\u001b[1;32m   1753\u001b[0m called_always_called_hooks \u001b[38;5;241m=\u001b[39m \u001b[38;5;28mset\u001b[39m()\n",
      "Cell \u001b[0;32mIn[21], line 9\u001b[0m, in \u001b[0;36mBiLSTMModel.forward\u001b[0;34m(self, x)\u001b[0m\n\u001b[1;32m      8\u001b[0m \u001b[38;5;28;01mdef\u001b[39;00m \u001b[38;5;21mforward\u001b[39m(\u001b[38;5;28mself\u001b[39m, x):\n\u001b[0;32m----> 9\u001b[0m     out, _ \u001b[38;5;241m=\u001b[39m \u001b[38;5;28mself\u001b[39m\u001b[38;5;241m.\u001b[39mlstm(x)\n\u001b[1;32m     10\u001b[0m     out \u001b[38;5;241m=\u001b[39m \u001b[38;5;28mself\u001b[39m\u001b[38;5;241m.\u001b[39mdropout(out[:, \u001b[38;5;241m-\u001b[39m\u001b[38;5;241m1\u001b[39m, :])\n\u001b[1;32m     11\u001b[0m     out \u001b[38;5;241m=\u001b[39m \u001b[38;5;28mself\u001b[39m\u001b[38;5;241m.\u001b[39mfc(out)\n",
      "File \u001b[0;32m/opt/miniconda3/lib/python3.12/site-packages/torch/nn/modules/module.py:1739\u001b[0m, in \u001b[0;36mModule._wrapped_call_impl\u001b[0;34m(self, *args, **kwargs)\u001b[0m\n\u001b[1;32m   1737\u001b[0m     \u001b[38;5;28;01mreturn\u001b[39;00m \u001b[38;5;28mself\u001b[39m\u001b[38;5;241m.\u001b[39m_compiled_call_impl(\u001b[38;5;241m*\u001b[39margs, \u001b[38;5;241m*\u001b[39m\u001b[38;5;241m*\u001b[39mkwargs)  \u001b[38;5;66;03m# type: ignore[misc]\u001b[39;00m\n\u001b[1;32m   1738\u001b[0m \u001b[38;5;28;01melse\u001b[39;00m:\n\u001b[0;32m-> 1739\u001b[0m     \u001b[38;5;28;01mreturn\u001b[39;00m \u001b[38;5;28mself\u001b[39m\u001b[38;5;241m.\u001b[39m_call_impl(\u001b[38;5;241m*\u001b[39margs, \u001b[38;5;241m*\u001b[39m\u001b[38;5;241m*\u001b[39mkwargs)\n",
      "File \u001b[0;32m/opt/miniconda3/lib/python3.12/site-packages/torch/nn/modules/module.py:1750\u001b[0m, in \u001b[0;36mModule._call_impl\u001b[0;34m(self, *args, **kwargs)\u001b[0m\n\u001b[1;32m   1745\u001b[0m \u001b[38;5;66;03m# If we don't have any hooks, we want to skip the rest of the logic in\u001b[39;00m\n\u001b[1;32m   1746\u001b[0m \u001b[38;5;66;03m# this function, and just call forward.\u001b[39;00m\n\u001b[1;32m   1747\u001b[0m \u001b[38;5;28;01mif\u001b[39;00m \u001b[38;5;129;01mnot\u001b[39;00m (\u001b[38;5;28mself\u001b[39m\u001b[38;5;241m.\u001b[39m_backward_hooks \u001b[38;5;129;01mor\u001b[39;00m \u001b[38;5;28mself\u001b[39m\u001b[38;5;241m.\u001b[39m_backward_pre_hooks \u001b[38;5;129;01mor\u001b[39;00m \u001b[38;5;28mself\u001b[39m\u001b[38;5;241m.\u001b[39m_forward_hooks \u001b[38;5;129;01mor\u001b[39;00m \u001b[38;5;28mself\u001b[39m\u001b[38;5;241m.\u001b[39m_forward_pre_hooks\n\u001b[1;32m   1748\u001b[0m         \u001b[38;5;129;01mor\u001b[39;00m _global_backward_pre_hooks \u001b[38;5;129;01mor\u001b[39;00m _global_backward_hooks\n\u001b[1;32m   1749\u001b[0m         \u001b[38;5;129;01mor\u001b[39;00m _global_forward_hooks \u001b[38;5;129;01mor\u001b[39;00m _global_forward_pre_hooks):\n\u001b[0;32m-> 1750\u001b[0m     \u001b[38;5;28;01mreturn\u001b[39;00m forward_call(\u001b[38;5;241m*\u001b[39margs, \u001b[38;5;241m*\u001b[39m\u001b[38;5;241m*\u001b[39mkwargs)\n\u001b[1;32m   1752\u001b[0m result \u001b[38;5;241m=\u001b[39m \u001b[38;5;28;01mNone\u001b[39;00m\n\u001b[1;32m   1753\u001b[0m called_always_called_hooks \u001b[38;5;241m=\u001b[39m \u001b[38;5;28mset\u001b[39m()\n",
      "File \u001b[0;32m/opt/miniconda3/lib/python3.12/site-packages/torch/nn/modules/rnn.py:1124\u001b[0m, in \u001b[0;36mLSTM.forward\u001b[0;34m(self, input, hx)\u001b[0m\n\u001b[1;32m   1121\u001b[0m         hx \u001b[38;5;241m=\u001b[39m \u001b[38;5;28mself\u001b[39m\u001b[38;5;241m.\u001b[39mpermute_hidden(hx, sorted_indices)\n\u001b[1;32m   1123\u001b[0m \u001b[38;5;28;01mif\u001b[39;00m batch_sizes \u001b[38;5;129;01mis\u001b[39;00m \u001b[38;5;28;01mNone\u001b[39;00m:\n\u001b[0;32m-> 1124\u001b[0m     result \u001b[38;5;241m=\u001b[39m _VF\u001b[38;5;241m.\u001b[39mlstm(\n\u001b[1;32m   1125\u001b[0m         \u001b[38;5;28minput\u001b[39m,\n\u001b[1;32m   1126\u001b[0m         hx,\n\u001b[1;32m   1127\u001b[0m         \u001b[38;5;28mself\u001b[39m\u001b[38;5;241m.\u001b[39m_flat_weights,  \u001b[38;5;66;03m# type: ignore[arg-type]\u001b[39;00m\n\u001b[1;32m   1128\u001b[0m         \u001b[38;5;28mself\u001b[39m\u001b[38;5;241m.\u001b[39mbias,\n\u001b[1;32m   1129\u001b[0m         \u001b[38;5;28mself\u001b[39m\u001b[38;5;241m.\u001b[39mnum_layers,\n\u001b[1;32m   1130\u001b[0m         \u001b[38;5;28mself\u001b[39m\u001b[38;5;241m.\u001b[39mdropout,\n\u001b[1;32m   1131\u001b[0m         \u001b[38;5;28mself\u001b[39m\u001b[38;5;241m.\u001b[39mtraining,\n\u001b[1;32m   1132\u001b[0m         \u001b[38;5;28mself\u001b[39m\u001b[38;5;241m.\u001b[39mbidirectional,\n\u001b[1;32m   1133\u001b[0m         \u001b[38;5;28mself\u001b[39m\u001b[38;5;241m.\u001b[39mbatch_first,\n\u001b[1;32m   1134\u001b[0m     )\n\u001b[1;32m   1135\u001b[0m \u001b[38;5;28;01melse\u001b[39;00m:\n\u001b[1;32m   1136\u001b[0m     result \u001b[38;5;241m=\u001b[39m _VF\u001b[38;5;241m.\u001b[39mlstm(\n\u001b[1;32m   1137\u001b[0m         \u001b[38;5;28minput\u001b[39m,\n\u001b[1;32m   1138\u001b[0m         batch_sizes,\n\u001b[0;32m   (...)\u001b[0m\n\u001b[1;32m   1145\u001b[0m         \u001b[38;5;28mself\u001b[39m\u001b[38;5;241m.\u001b[39mbidirectional,\n\u001b[1;32m   1146\u001b[0m     )\n",
      "\u001b[0;31mKeyboardInterrupt\u001b[0m: "
     ]
    }
   ],
   "source": [
    "for epoch in range(best_params[\"epochs\"]):\n",
    "    best_model.train()\n",
    "    for X_batch, y_batch in train_loader:\n",
    "        best_optimizer.zero_grad()\n",
    "        predictions = best_model(X_batch)\n",
    "        loss = criterion(predictions, y_batch)\n",
    "        loss.backward()\n",
    "        best_optimizer.step()"
   ]
  },
  {
   "cell_type": "code",
   "execution_count": null,
   "id": "246e4b9c-0a2f-498f-9584-35e6c14d7d1b",
   "metadata": {},
   "outputs": [],
   "source": []
  }
 ],
 "metadata": {
  "kernelspec": {
   "display_name": "Python 3 (ipykernel)",
   "language": "python",
   "name": "python3"
  },
  "language_info": {
   "codemirror_mode": {
    "name": "ipython",
    "version": 3
   },
   "file_extension": ".py",
   "mimetype": "text/x-python",
   "name": "python",
   "nbconvert_exporter": "python",
   "pygments_lexer": "ipython3",
   "version": "3.12.1"
  }
 },
 "nbformat": 4,
 "nbformat_minor": 5
}
